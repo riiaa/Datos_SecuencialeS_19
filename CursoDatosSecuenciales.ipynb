{
  "nbformat": 4,
  "nbformat_minor": 0,
  "metadata": {
    "colab": {
      "name": "CursoDatosSecuenciales.ipynb",
      "version": "0.3.2",
      "provenance": [],
      "collapsed_sections": [],
      "toc_visible": true
    },
    "kernelspec": {
      "name": "python3",
      "display_name": "Python 3"
    },
    "accelerator": "TPU"
  },
  "cells": [
    {
      "cell_type": "markdown",
      "metadata": {
        "id": "SXLhPoPf23I4",
        "colab_type": "text"
      },
      "source": [
        "#Introducción\n",
        "En los problemas de clasificación se necesitan 2 elementos esenciales: la clase y la situación en la que se da la clase. Para encontrar la clase se debe asumir que los datos recabados de la situación son la causa de la misma.\n",
        "\n",
        "\\begin{align}\n",
        "f(datos)=clase\n",
        "\\end{align}\n",
        "\n",
        "También se puede suponer que la aparición de los datos no afecta de ninguna forma la clase que se observa, lo cual aplica en algunos casos, por ejemplo, cuando se lanza una moneda. En otros casos es posible que sea mejor suponer que el orden si afecta, por ejemplo, en las palabras de una oración.\n",
        "\n",
        "\\begin{align}\n",
        "f(datos,orden)=clase\n",
        "\\end{align}\n",
        "\n",
        "Estos datos en los que se supone que el orden importa, se les llama datos secuenciales. Por otro lado existen otro tipo de datos en los que importa también la huella del tiempo, es decir en que momento se obtuvieron dichos datos. \n",
        "\n",
        "\\begin{align}\n",
        "f(datos,orden,tiempo)=clase\n",
        "\\end{align}\n",
        "\n",
        "A estos datos se les llama datos secuenciales temporales, algunos ejemplos de estos pueden ser: el comportamiento de los clientes de un centro comercial, la secuencia de reacciones quimicas en un proceso, etc.\n",
        "\n",
        "En la vida cotidiana se pueden encontrar muchos ejemplos de datos secuenciales. Por ejemplo, el ADN que conforma nuestro código genético, las palabras que componen una oración, los productos comprados en un supermercado en un día.\n",
        "![picture](https://drive.google.com/uc?id=1Lu3Tm4UtM5_seythlsCwcs0gnwSKXozl)\n"
      ]
    },
    {
      "cell_type": "markdown",
      "metadata": {
        "id": "4s5odh0z8XXD",
        "colab_type": "text"
      },
      "source": [
        "# Definiciones previas\n",
        "Una vez definido lo que son los datos secuenciales, es conveniente denifir los siguientes conceptos.\n",
        "\n",
        "## Muestra\n",
        "Una muestra son datos del entorno de nuestro problema, puede estar etiquetada o no. En este caso se considerarán unicamente datos etiquetados. \n",
        "\n",
        "\\begin{align}\n",
        "(datos,clase)\n",
        "\\end{align}\n",
        "\n",
        "## Corpus\n",
        "Un corpus es un conjunto de muestras del problema que tenemos. Estas pueden tener muchas características, pero lo ideal es que tenga las mismas características que las muestras del entorno, es decir, que si un evento sucede menos veces en la realidad, debe aparecer menos veces en el corpus. De esto se desprenden dos tipos de corpus, balanceados y no balanceados. \n",
        "\n",
        "![picture](https://drive.google.com/uc?id=1HimKWxV8_Mypg0Pukqgtaqm-tOn9LY8A)\n",
        "\n",
        "## Pipeline en IA\n",
        "Frecuentemente cuando se diseñan soluciones de inteligencia artificial se toma en cuenta que se solucione el problema, pero se pierde de vista cual es el objetivo de obtener dicha solución. Por eso antes de hacer una sola linea de codigo o de pensar en que modelo se usará, se debe proponer y aprobar un proceso iterativo del desarrollo de la solución, un pipeline. Para estos fines tendremos el siguiente pipeline."
      ]
    },
    {
      "cell_type": "markdown",
      "metadata": {
        "id": "jJ8mm8tu3Ann",
        "colab_type": "text"
      },
      "source": [
        "# Datos secuenciales\n",
        "En este taller se puede usar el siguiente corpus [corpus original](http://ivanvladimir.github.io/sitio-corpus-ironia/)  el cual consiste en muestras irónicas y no irónicas  etiquetadas de twitter. Por fines didacticos, se proporciona el corpus ya digerido, es decir, con los datos ya extraidos.  [corpus digerido](https://drive.google.com/open?id=1l_TBmLX5l-aKW0lZFUv6YzH4cWlxawb0) . La obtención de este corpus fue el trabajo de tesis de la Ingeniera Gabriela Jasso y después fue etiquetado manualmente por un equipo de 5 etiquetadores. El siguiente código es el que transforma a los textos de los twits en vectores que después pueden ser leídos por un clasificador."
      ]
    },
    {
      "cell_type": "markdown",
      "metadata": {
        "id": "Gm5D8BYbUlz2",
        "colab_type": "text"
      },
      "source": [
        "Primero debe establecerse una conexión con nuestro almacenamiento de datos, en este caso usaremos Drive."
      ]
    },
    {
      "cell_type": "code",
      "metadata": {
        "id": "4JXZUdu_P2Y4",
        "colab_type": "code",
        "outputId": "d6961a80-0c9b-416b-ab20-cf26282d44bb",
        "colab": {
          "base_uri": "https://localhost:8080/",
          "height": 625
        }
      },
      "source": [
        "from google.colab import drive\n",
        "drive.mount('/content/drive')\n",
        "base=\"/content/drive/My Drive/Colab Notebooks/Curso/\"\n",
        "!pip install tensorflow==1.12.0\n",
        "import tensorflow as tf\n",
        "print(tf.__version__)"
      ],
      "execution_count": 0,
      "outputs": [
        {
          "output_type": "stream",
          "text": [
            "Go to this URL in a browser: https://accounts.google.com/o/oauth2/auth?client_id=947318989803-6bn6qk8qdgf4n4g3pfee6491hc0brc4i.apps.googleusercontent.com&redirect_uri=urn%3Aietf%3Awg%3Aoauth%3A2.0%3Aoob&scope=email%20https%3A%2F%2Fwww.googleapis.com%2Fauth%2Fdocs.test%20https%3A%2F%2Fwww.googleapis.com%2Fauth%2Fdrive%20https%3A%2F%2Fwww.googleapis.com%2Fauth%2Fdrive.photos.readonly%20https%3A%2F%2Fwww.googleapis.com%2Fauth%2Fpeopleapi.readonly&response_type=code\n",
            "\n",
            "Enter your authorization code:\n",
            "··········\n",
            "Mounted at /content/drive\n",
            "Collecting tensorflow==1.12.0\n",
            "\u001b[?25l  Downloading https://files.pythonhosted.org/packages/22/cc/ca70b78087015d21c5f3f93694107f34ebccb3be9624385a911d4b52ecef/tensorflow-1.12.0-cp36-cp36m-manylinux1_x86_64.whl (83.1MB)\n",
            "\u001b[K     |████████████████████████████████| 83.1MB 1.3MB/s \n",
            "\u001b[?25hRequirement already satisfied: grpcio>=1.8.6 in /usr/local/lib/python3.6/dist-packages (from tensorflow==1.12.0) (1.15.0)\n",
            "Requirement already satisfied: keras-preprocessing>=1.0.5 in /usr/local/lib/python3.6/dist-packages (from tensorflow==1.12.0) (1.1.0)\n",
            "Requirement already satisfied: astor>=0.6.0 in /usr/local/lib/python3.6/dist-packages (from tensorflow==1.12.0) (0.8.0)\n",
            "Requirement already satisfied: six>=1.10.0 in /usr/local/lib/python3.6/dist-packages (from tensorflow==1.12.0) (1.12.0)\n",
            "Requirement already satisfied: termcolor>=1.1.0 in /usr/local/lib/python3.6/dist-packages (from tensorflow==1.12.0) (1.1.0)\n",
            "Collecting tensorboard<1.13.0,>=1.12.0 (from tensorflow==1.12.0)\n",
            "\u001b[?25l  Downloading https://files.pythonhosted.org/packages/07/53/8d32ce9471c18f8d99028b7cef2e5b39ea8765bd7ef250ca05b490880971/tensorboard-1.12.2-py3-none-any.whl (3.0MB)\n",
            "\u001b[K     |████████████████████████████████| 3.1MB 31.2MB/s \n",
            "\u001b[?25hRequirement already satisfied: wheel>=0.26 in /usr/local/lib/python3.6/dist-packages (from tensorflow==1.12.0) (0.33.6)\n",
            "Requirement already satisfied: numpy>=1.13.3 in /usr/local/lib/python3.6/dist-packages (from tensorflow==1.12.0) (1.16.4)\n",
            "Requirement already satisfied: absl-py>=0.1.6 in /usr/local/lib/python3.6/dist-packages (from tensorflow==1.12.0) (0.7.1)\n",
            "Requirement already satisfied: gast>=0.2.0 in /usr/local/lib/python3.6/dist-packages (from tensorflow==1.12.0) (0.2.2)\n",
            "Requirement already satisfied: protobuf>=3.6.1 in /usr/local/lib/python3.6/dist-packages (from tensorflow==1.12.0) (3.7.1)\n",
            "Requirement already satisfied: keras-applications>=1.0.6 in /usr/local/lib/python3.6/dist-packages (from tensorflow==1.12.0) (1.0.8)\n",
            "Requirement already satisfied: markdown>=2.6.8 in /usr/local/lib/python3.6/dist-packages (from tensorboard<1.13.0,>=1.12.0->tensorflow==1.12.0) (3.1.1)\n",
            "Requirement already satisfied: werkzeug>=0.11.10 in /usr/local/lib/python3.6/dist-packages (from tensorboard<1.13.0,>=1.12.0->tensorflow==1.12.0) (0.15.5)\n",
            "Requirement already satisfied: setuptools in /usr/local/lib/python3.6/dist-packages (from protobuf>=3.6.1->tensorflow==1.12.0) (41.2.0)\n",
            "Requirement already satisfied: h5py in /usr/local/lib/python3.6/dist-packages (from keras-applications>=1.0.6->tensorflow==1.12.0) (2.8.0)\n",
            "Installing collected packages: tensorboard, tensorflow\n",
            "  Found existing installation: tensorboard 1.14.0\n",
            "    Uninstalling tensorboard-1.14.0:\n",
            "      Successfully uninstalled tensorboard-1.14.0\n",
            "  Found existing installation: tensorflow 1.14.0\n",
            "    Uninstalling tensorflow-1.14.0:\n",
            "      Successfully uninstalled tensorflow-1.14.0\n",
            "Successfully installed tensorboard-1.12.2 tensorflow-1.12.0\n",
            "1.12.0\n"
          ],
          "name": "stdout"
        }
      ]
    },
    {
      "cell_type": "markdown",
      "metadata": {
        "id": "Ih4OiIIkUiS-",
        "colab_type": "text"
      },
      "source": [
        "Para tener una buena práctica en cuanto a evaluación, se va a particionar el corpus usando, KFolds. Por lo que obtendremos 5 corpus con distribuciones distintas. Para ser prácticos se usará el primer corpus."
      ]
    },
    {
      "cell_type": "markdown",
      "metadata": {
        "id": "Srkh9eym-SPn",
        "colab_type": "text"
      },
      "source": [
        ""
      ]
    },
    {
      "cell_type": "code",
      "metadata": {
        "id": "elaH9VJzzxBi",
        "colab_type": "code",
        "outputId": "62b70519-0ae0-4653-ee79-61bf279e921c",
        "colab": {
          "base_uri": "https://localhost:8080/",
          "height": 238
        }
      },
      "source": [
        "import random\n",
        "from sklearn.model_selection import KFold\n",
        "def obtenerCorpuses(nombreArchivo, nombresBase):\n",
        "    \"\"\"Con esta función se crea 5 archivos con las  secciones del corpus\n",
        "    INPUT:el nombre del corpus completo sin seccionar\n",
        "    OUTPUT:si el proceso fue exitoso regresa los nombres de los archivos sino 0\"\"\"\n",
        "    try:\n",
        "        corpus = open(nombreArchivo, \"r\").readlines()\n",
        "        random.shuffle(corpus, random.random)\n",
        "        X = [x.split(\"|\", 2)[2] for x in corpus]\n",
        "        y = [y.split(\"|\", 2)[1] for y in corpus]\n",
        "        print('El total del corpus es: ', len(X), ' twits')\n",
        "        skf = KFold(n_splits=5)\n",
        "        i = 0\n",
        "        nombres = []\n",
        "        for train, test in skf.split(X, y):\n",
        "            # print(\"%s %s\" % (train, test))\n",
        "            f = open(nombresBase[0]+str(i)+\".txt\", \"w\")\n",
        "            for idx in train:\n",
        "                f.write(y[idx]+\"|\"+X[idx])\n",
        "            f.close()\n",
        "            f = open(nombresBase[1]+str(i)+\".txt\", \"w\")\n",
        "            for idx in test:\n",
        "                f.write(y[idx]+\"|\"+X[idx])\n",
        "            nombres.append([nombresBase[0]+str(i)+\".txt\",\n",
        "                            nombresBase[1]+str(i)+\".txt\"])\n",
        "            i += 1\n",
        "            f.close()\n",
        "\n",
        "        return nombres\n",
        "    except Exception as e:\n",
        "        print(\"Ha ocurrido un problema: \", e)\n",
        "        return 0\n",
        "\n",
        "corpus = base+\"corpus_complete_alan.txt\"\n",
        "baseDatos =base+ \"Data/\"\n",
        "!mkdir {baseDatos.replace(\" \",\"\\ \")}\n",
        "obtenerCorpuses(corpus, [baseDatos+\"corpusTrain\", baseDatos+\"corpusTest\"])\n"
      ],
      "execution_count": 0,
      "outputs": [
        {
          "output_type": "stream",
          "text": [
            "mkdir: cannot create directory ‘/content/drive/My Drive/Colab Notebooks/Curso/Data/’: File exists\n",
            "El total del corpus es:  76530  twits\n"
          ],
          "name": "stdout"
        },
        {
          "output_type": "execute_result",
          "data": {
            "text/plain": [
              "[['/content/drive/My Drive/Colab Notebooks/Curso/Data/corpusTrain0.txt',\n",
              "  '/content/drive/My Drive/Colab Notebooks/Curso/Data/corpusTest0.txt'],\n",
              " ['/content/drive/My Drive/Colab Notebooks/Curso/Data/corpusTrain1.txt',\n",
              "  '/content/drive/My Drive/Colab Notebooks/Curso/Data/corpusTest1.txt'],\n",
              " ['/content/drive/My Drive/Colab Notebooks/Curso/Data/corpusTrain2.txt',\n",
              "  '/content/drive/My Drive/Colab Notebooks/Curso/Data/corpusTest2.txt'],\n",
              " ['/content/drive/My Drive/Colab Notebooks/Curso/Data/corpusTrain3.txt',\n",
              "  '/content/drive/My Drive/Colab Notebooks/Curso/Data/corpusTest3.txt'],\n",
              " ['/content/drive/My Drive/Colab Notebooks/Curso/Data/corpusTrain4.txt',\n",
              "  '/content/drive/My Drive/Colab Notebooks/Curso/Data/corpusTest4.txt']]"
            ]
          },
          "metadata": {
            "tags": []
          },
          "execution_count": 2
        }
      ]
    },
    {
      "cell_type": "markdown",
      "metadata": {
        "id": "Pw_HB5bPVOXd",
        "colab_type": "text"
      },
      "source": [
        "Una vez que tenemos este corpus, se le aplicará un preprocesamiento, en este caso se usará un procesamiento por n-gramas de 2, esta parte es muy importante y pueden usarse, como se sabe, diferentes procesos, como la extracción de etiquetas POS, o usar el n-gramas por palabra, se usa este por practicidad y ya que se sabe que llega a buenos resultados."
      ]
    },
    {
      "cell_type": "code",
      "metadata": {
        "id": "p4ORa0XNPZIT",
        "colab_type": "code",
        "outputId": "8f6f5fcc-539b-41ef-cc73-20797f03507a",
        "colab": {
          "base_uri": "https://localhost:8080/",
          "height": 138
        }
      },
      "source": [
        "import numpy as np\n",
        "import json\n",
        "from tensorflow.keras.preprocessing import sequence\n",
        "def preprocessing(corpus,getVocabulary,n,lenPad,vocabulary={}):\n",
        "    twitsVectors=[]\n",
        "    twitLabels=[]\n",
        "    cosas=[(\"\\\\n\",\"\\n\"),(\"http://link\",\"η\"),(\"\\\\\\\"\",\"\\\"\")]\n",
        "    vocabularioBueno={\"NTG\":0,\"UNK\":1}\n",
        "    with open(corpus,\"r\") as f:\n",
        "        for line in f:\n",
        "            twit=line.split(\"|\",1)\n",
        "            for c,v in cosas:\n",
        "                twit[1]=twit[1].replace(c,v)\n",
        "            # tnGrams=t[1]\n",
        "            original=twit[1]\n",
        "            vector=[] \n",
        "            twit[1]=\"ŧ\"+twit[1]+\"¶\"\n",
        "            twit[1]=twit[1][::-1]\n",
        "            for i in range(len(twit[1])-(n-1)):\n",
        "                tnGrams=twit[1][i:i+n]\n",
        "                if getVocabulary:\n",
        "                    if tnGrams not in vocabularioBueno.keys():\n",
        "                        vocabularioBueno[tnGrams]=len(vocabularioBueno.keys())##Aqui va lo de los vectores\n",
        "                    vector.append(vocabularioBueno[tnGrams])\n",
        "                else:\n",
        "                    if tnGrams not in vocabulary:\n",
        "                        vector.append(vocabulary[\"UNK\"])\n",
        "                    else:\n",
        "                        vector.append(vocabulary[tnGrams])    \n",
        "            if(len(vector)==0):\n",
        "                print(vector)\n",
        "                print(original)\n",
        "                input(twit[0])\n",
        "            twitsVectors.append(vector)\n",
        "            twitLabels.append(int(twit[0]))\n",
        "    \n",
        "    if getVocabulary:\n",
        "        y=np.array(twitLabels).astype('int32')\n",
        "        \n",
        "        return sequence.pad_sequences(twitsVectors, maxlen=lenPad),y,vocabularioBueno\n",
        "    else:\n",
        "        y=np.array(twitLabels[:-2]).astype('int32')\n",
        "        \n",
        "        return sequence.pad_sequences(twitsVectors[:-2], maxlen=lenPad),y\n",
        "\n",
        "baseVect=base+\"Vectors/\"\n",
        "baseVocabs=base+\"Vocabs/\"\n",
        "!mkdir {baseVect.replace(\" \",\"\\ \")}\n",
        "!mkdir {baseVocabs.replace(\" \",\"\\ \")}\n",
        "maxlen=200\n",
        "x_train,y_train,vocab=preprocessing(baseDatos+\"corpusTrain0.txt\",True,1,maxlen)\n",
        "np.savez(baseVect+\"vectorsLabelsTrain.npz\",vectors=x_train,labels=y_train)\n",
        "with open(baseVocabs+\"vocabulario.json\",\"w\") as fw:\n",
        "    fw.write(json.dumps(vocab))\n",
        "x_test,y_test=preprocessing(baseDatos+\"corpusTest0.txt\",False,1,maxlen,vocab)\n",
        "np.savez(baseVect+\"vectorsLabelsTest.npz\",vectors=x_test,labels=y_test)\n",
        "print(x_train.shape)\n",
        "print(y_train.shape)\n",
        "print(x_test.shape)\n",
        "print(y_test.shape)"
      ],
      "execution_count": 0,
      "outputs": [
        {
          "output_type": "stream",
          "text": [
            "mkdir: cannot create directory ‘/content/drive/My Drive/Colab Notebooks/Curso/Vectors/’: File exists\n",
            "mkdir: cannot create directory ‘/content/drive/My Drive/Colab Notebooks/Curso/Vocabs/’: File exists\n",
            "(61224, 200)\n",
            "(61224,)\n",
            "(15304, 200)\n",
            "(15304,)\n"
          ],
          "name": "stdout"
        }
      ]
    },
    {
      "cell_type": "markdown",
      "metadata": {
        "id": "AQySP2yYV-ya",
        "colab_type": "text"
      },
      "source": [
        "# ¿Como se desempeña una MLP?\n",
        "Las redes neuronales completamente conectadas o MLP(Multi Layer Perceptron), trabajan bajo la suposición de que el orden de los elementos que componen los datos, no es relevante, procesa los datos de manera no secuencial, sin incluir la dimensión del orden en su procesamiento. Para ejemplificar rápidamente, se realizará este procesamiento, el cual obtiene apenas un f-score promedio de 0.04. Además es una oportunidad perfecta para probar el pipeline y su independencia entre modulos."
      ]
    },
    {
      "cell_type": "code",
      "metadata": {
        "id": "SLstg0-A39Tn",
        "colab_type": "code",
        "colab": {}
      },
      "source": [
        "import tensorflow as tf\n",
        "from tensorflow.python.keras.layers import Input, Dense, Dropout\n",
        "\n",
        "def make_modelMLP(batch_size=None):\n",
        "    source = Input(shape=(maxlen,), batch_size=batch_size, dtype=tf.float32, name='Input')\n",
        "    layer1 = Dense(100, activation='sigmoid', name='layer1')(source)\n",
        "    \n",
        "    layer2 = Dense(100, activation='sigmoid', name='layer2')(layer1)\n",
        "    dropout3=Dropout(0.5,name=\"Dropout3\")(layer2)\n",
        "    predicted_var = Dense(1, activation='sigmoid', name='Output')(dropout3)\n",
        "    model = tf.keras.Model(inputs=[source], outputs=[predicted_var])\n",
        "    model.compile(\n",
        "            optimizer= tf.train.AdamOptimizer(),\n",
        "            loss='binary_crossentropy',\n",
        "            metrics=['acc'])\n",
        "    model_json = model.to_json()\n",
        "    with open(base+\"/Modelo.json\",\"w\") as json_file:\n",
        "      json_file.write(model_json)\n",
        "    return model"
      ],
      "execution_count": 0,
      "outputs": []
    },
    {
      "cell_type": "markdown",
      "metadata": {
        "id": "Wgt9-s17W-6d",
        "colab_type": "text"
      },
      "source": [
        "Después se incluirá el modulo de entrenamiento que se encargará de entrenar cualquier modelo que se pase, en este primer caso se pasará una MLP de 3 capas con dropdown de 0.5. Se usan TPU para acelerar el procesamiento en gran medida y probar la efectividad de la red. El tamaño de batch se establece en 512, sin embargo puede variar dependiendo de como se este adaptando, esto debido que se usa una técnica de mini-batch gradient descent que acelera el desempeño del entrenamiento, sacrificando seguridad en el gradiente.\n",
        "https://towardsdatascience.com/difference-between-batch-gradient-descent-and-stochastic-gradient-descent-1187f1291aa1\n",
        "(Notas)(Revisar exactamente que usa fit por default)"
      ]
    },
    {
      "cell_type": "code",
      "metadata": {
        "id": "iwzhVVnP8c_W",
        "colab_type": "code",
        "colab": {}
      },
      "source": [
        "import os\n",
        "import time\n",
        "\n",
        "def trainModel(training_model,x_train,y_train,x_test,y_test,weights,epochs, bach_size):\n",
        "  TPU_WORKER = 'grpc://' + os.environ['COLAB_TPU_ADDR']\n",
        "  tf.logging.set_verbosity(tf.logging.INFO)\n",
        "  # this line is to don't print warnings and info that tf use by default\n",
        "  os.environ['TF_CPP_MIN_LOG_LEVEL'] = '3' \n",
        "  tf.logging.set_verbosity(tf.logging.ERROR)\n",
        "  \n",
        "  tpu_model = tf.contrib.tpu.keras_to_tpu_model(\n",
        "      training_model,\n",
        "      strategy=tf.contrib.tpu.TPUDistributionStrategy(\n",
        "          tf.contrib.cluster_resolver.TPUClusterResolver(TPU_WORKER)))\n",
        "\n",
        "  tpu_model.summary()\n",
        "\n",
        "  start_time = time.time()\n",
        "\n",
        "  history = tpu_model.fit(x_train, y_train,\n",
        "                      epochs=epochs,\n",
        "                      batch_size=bach_size * 8,\n",
        "                      validation_data=[x_test,y_test])\n",
        "  tpu_model.save_weights('./tpu_model.h5', overwrite=True)\n",
        "  !cp ./tpu_model.h5 {weights.replace(\" \",\"\\ \")}\n",
        "  print(\"--- %s seconds ---\" % (time.time() - start_time))\n",
        "  return tpu_model"
      ],
      "execution_count": 0,
      "outputs": []
    },
    {
      "cell_type": "markdown",
      "metadata": {
        "id": "xkbQwMA6YG8s",
        "colab_type": "text"
      },
      "source": [
        "Después de esta parte, se deberá establecer un módulo de evaluación que será independiente de que modelo se esta generando. Este nos dira el accuracy, precision, recall y f-score, además de curvas ROC y AUC, para describir su comportamiento. "
      ]
    },
    {
      "cell_type": "code",
      "metadata": {
        "id": "9PY6FP8hQNbX",
        "colab_type": "code",
        "colab": {}
      },
      "source": [
        "from sklearn.metrics import accuracy_score,confusion_matrix,recall_score,precision_score,f1_score,roc_curve,auc\n",
        "import numpy as np\n",
        "import matplotlib.pyplot as plt\n",
        "import IPython\n",
        "IPython_default = plt.rcParams.copy()\n",
        "# # use a gray background\n",
        "    \n",
        "# # control face and edge color of histogram\n",
        "# ax.hist(x, edgecolor='#E6E6E6', color='#EE6666');\n",
        "\n",
        "def evaluate(x_test,y_test,inferencing_model):\n",
        "  \n",
        "  inferencing_model.load_weights('./tpu_model.h5')\n",
        "  \n",
        "  y_pred=inferencing_model.predict(x_test,verbose=1,batch_size=32)\n",
        "  fpr, tpr, thresholds = roc_curve(y_test.astype(float),y_pred )\n",
        "  y_pred=np.array([int(i) for i in map(np.rint,y_pred)])\n",
        "\n",
        "  y_test=np.array([int(i) for i in map(np.rint,y_test)])\n",
        "\n",
        "  print(\"accuracy \",accuracy_score(y_test,y_pred))\n",
        "  print(\"Matriz de confusión \",confusion_matrix(y_test,y_pred))\n",
        "  print(\"Recall \",recall_score(y_test,y_pred,average='binary'))\n",
        "  print(\"Precision \",precision_score(y_test,y_pred,average='binary'))\n",
        "  print(\"F1-score \",f1_score(y_test,y_pred,average='binary'))\n",
        "  roc_auc=auc(fpr,tpr)\n",
        "  plt.figure( figsize=(8, 6))\n",
        "  ax = plt.axes(facecolor='#E6E6E6')\n",
        "  ax.set_axisbelow(True)\n",
        "\n",
        "  # draw solid white grid lines\n",
        "  plt.grid(color='w', linestyle='solid')\n",
        "\n",
        "  plt.plot([0, 1], [0, 1], 'k--')\n",
        "  plt.plot(fpr, tpr, label='ROC curve (area = %0.2f)' % roc_auc)\n",
        "  plt.xlim([0.0, 1.0])\n",
        "  plt.ylim([0.0, 1.05])\n",
        "  plt.xlabel('False Positive Rate',fontsize=\"14\")\n",
        "  plt.ylabel('True Positive Rate',fontsize=\"14\")\n",
        "  plt.legend(loc=\"lower right\",fontsize='12')\n",
        "  plt.show()\n",
        "  return fpr,tpr"
      ],
      "execution_count": 0,
      "outputs": []
    },
    {
      "cell_type": "markdown",
      "metadata": {
        "id": "PeBDclqAYgVz",
        "colab_type": "text"
      },
      "source": [
        "Después se genera un pequeño código que generará el modelo, lo entrenará y evaluará. Se propone salvar los pesos, para que en caso de que sean necesarios obtenerlos y tener unas versiones de los modelos, se puedan mantener en el almacenamiento."
      ]
    },
    {
      "cell_type": "code",
      "metadata": {
        "id": "mkFE2ok58kIx",
        "colab_type": "code",
        "outputId": "4e55f956-bc0b-4cf4-d90d-ecca4d3b1f1b",
        "colab": {
          "base_uri": "https://localhost:8080/",
          "height": 987
        }
      },
      "source": [
        "max_features=200000\n",
        "weights=base+\"pesosModeloMLP.hd5\"\n",
        "model=make_modelMLP(max_features)\n",
        "tpu_model=trainModel(model,x_train,y_train,x_test,y_test,weights,2,64)\n",
        "fpr,tpr=evaluate(x_test,y_test,model)"
      ],
      "execution_count": 0,
      "outputs": [
        {
          "output_type": "stream",
          "text": [
            "_________________________________________________________________\n",
            "Layer (type)                 Output Shape              Param #   \n",
            "=================================================================\n",
            "Input (InputLayer)           (200000, 200)             0         \n",
            "_________________________________________________________________\n",
            "layer1 (Dense)               (200000, 100)             20100     \n",
            "_________________________________________________________________\n",
            "layer2 (Dense)               (200000, 100)             10100     \n",
            "_________________________________________________________________\n",
            "Dropout3 (Dropout)           (200000, 100)             0         \n",
            "_________________________________________________________________\n",
            "Output (Dense)               (200000, 1)               101       \n",
            "=================================================================\n",
            "Total params: 30,301\n",
            "Trainable params: 30,301\n",
            "Non-trainable params: 0\n",
            "_________________________________________________________________\n",
            "Train on 61224 samples, validate on 15304 samples\n",
            "Epoch 1/2\n",
            "61224/61224 [==============================] - 62s 1ms/step - loss: 0.3808 - acc: 0.8702 - val_loss: 0.3329 - val_acc: 0.8958\n",
            "Epoch 2/2\n",
            "61224/61224 [==============================] - 55s 903us/step - loss: 0.3327 - acc: 0.9010 - val_loss: 0.3291 - val_acc: 0.8958\n",
            "--- 118.41330099105835 seconds ---\n",
            "15304/15304 [==============================] - 1s 65us/step\n",
            "accuracy  0.8957788813382123\n",
            "Matriz de confusión  [[13709     0]\n",
            " [ 1595     0]]\n",
            "Recall  0.0\n",
            "Precision  0.0\n",
            "F1-score  0.0\n"
          ],
          "name": "stdout"
        },
        {
          "output_type": "stream",
          "text": [
            "/usr/local/lib/python3.6/dist-packages/sklearn/metrics/classification.py:1437: UndefinedMetricWarning: Precision is ill-defined and being set to 0.0 due to no predicted samples.\n",
            "  'precision', 'predicted', average, warn_for)\n",
            "/usr/local/lib/python3.6/dist-packages/sklearn/metrics/classification.py:1437: UndefinedMetricWarning: F-score is ill-defined and being set to 0.0 due to no predicted samples.\n",
            "  'precision', 'predicted', average, warn_for)\n"
          ],
          "name": "stderr"
        },
        {
          "output_type": "display_data",
          "data": {
            "image/png": "[encoded data removed]",
            "text/plain": [
              "<Figure size 576x432 with 1 Axes>"
            ]
          },
          "metadata": {
            "tags": []
          }
        }
      ]
    },
    {
      "cell_type": "markdown",
      "metadata": {
        "id": "Hol1k2aoGN7Z",
        "colab_type": "text"
      },
      "source": [
        "El desempeño de la red MLP, como se pudo esperar de solo 2 epoch no fue el mejor, ya que tiene apenas un f-score de 0.4, y aunque tiene una precision de 1 el recall apenas alcanza el 0.024 lo cual quiere decir que el sistema apenas supo distinguir que el corpus no es balanceado y que es mejor decir siempre que las muestras no son irónicas. La curva ROC y el AUC se acercan mucho al comportamiento aleatorio, y son apenas mejor. Esta prueba y lo anterior dicho, nos dice que una MLP, no es la respuesta más adecuada para este tipo de problemas."
      ]
    },
    {
      "cell_type": "markdown",
      "metadata": {
        "id": "d0yRhkJSY8hP",
        "colab_type": "text"
      },
      "source": [
        "# Redes Neuronales Recurrentes (RNN)\n",
        "Las redes neuronales recurrentes nacen en ... \n",
        "Con el fin de atajar el problema de los analisis de datos secuenciales, su arquitectura es la siguiente \n",
        "(NOTA) (Completar con imagenes y descripción del modelo.)"
      ]
    },
    {
      "cell_type": "markdown",
      "metadata": {
        "id": "-emM7TT4aB_3",
        "colab_type": "text"
      },
      "source": [
        "El código en Keras que describe este modelo es el siguiente:"
      ]
    },
    {
      "cell_type": "code",
      "metadata": {
        "id": "k5Silm82GSU3",
        "colab_type": "code",
        "colab": {}
      },
      "source": [
        "from tensorflow.python.keras.layers import SimpleRNN,Embedding\n",
        "max_features=200000# numero de palabras que se pueden considerar caracteristicas\n",
        "def make_modelRNN(batch_size=None):\n",
        "    source = Input(shape=(maxlen,), batch_size=batch_size, dtype=tf.float32, name='Input')\n",
        "    embedding = Embedding(input_dim=max_features, output_dim=128, name='Embedding')(source)\n",
        "    rnn=SimpleRNN(200)(embedding)\n",
        "    dropout=Dropout(0.5,name=\"Dropout\")(rnn)\n",
        "    predicted_var = Dense(1, activation='sigmoid', name='Output')(dropout)\n",
        "    model = tf.keras.Model(inputs=[source], outputs=[predicted_var])\n",
        "    model.compile(\n",
        "            optimizer=  tf.train.RMSPropOptimizer(learning_rate=0.001),\n",
        "            loss='binary_crossentropy',\n",
        "            metrics=['acc'])\n",
        "    model_json = model.to_json()\n",
        "    with open(base+\"/Modelo.json\",\"w\") as json_file:\n",
        "      json_file.write(model_json)\n",
        "    return model"
      ],
      "execution_count": 0,
      "outputs": []
    },
    {
      "cell_type": "markdown",
      "metadata": {
        "id": "47kC0FmIaJt5",
        "colab_type": "text"
      },
      "source": [
        "Como se puede ver se necesita una capa de embedding que generé el significado de los tokens que se les pasara como elementos del vector de características, y después pasará a la capa RNN con 200 unidades de Simple RNN, luego a una MLP que distinguirá la información procesada por la RNN y decidirá si es una muestra positiva o negativa (irónica o no irónica)"
      ]
    },
    {
      "cell_type": "code",
      "metadata": {
        "id": "yXy8StrQG3aA",
        "colab_type": "code",
        "outputId": "406274e8-3bca-4fe0-e899-9f03acf0eac0",
        "colab": {
          "base_uri": "https://localhost:8080/",
          "height": 1000
        }
      },
      "source": [
        "weights=base+\"pesosModeloRNN.hd5\"\n",
        "model=make_modelRNN()\n",
        "tpu_model=trainModel(model,x_train,y_train,x_test,y_test,weights,10,32)\n",
        "fpr,tpr=evaluate(x_test,y_test,model)"
      ],
      "execution_count": 0,
      "outputs": [
        {
          "output_type": "stream",
          "text": [
            "_________________________________________________________________\n",
            "Layer (type)                 Output Shape              Param #   \n",
            "=================================================================\n",
            "Input (InputLayer)           (None, 200)               0         \n",
            "_________________________________________________________________\n",
            "Embedding (Embedding)        (None, 200, 128)          25600000  \n",
            "_________________________________________________________________\n",
            "simple_rnn (SimpleRNN)       (None, 200)               65800     \n",
            "_________________________________________________________________\n",
            "Dropout (Dropout)            (None, 200)               0         \n",
            "_________________________________________________________________\n",
            "Output (Dense)               (None, 1)                 201       \n",
            "=================================================================\n",
            "Total params: 25,666,001\n",
            "Trainable params: 25,666,001\n",
            "Non-trainable params: 0\n",
            "_________________________________________________________________\n",
            "Train on 61224 samples, validate on 15304 samples\n",
            "Epoch 1/10\n",
            "61224/61224 [==============================] - 115s 2ms/step - loss: 0.4109 - acc: 0.8464 - val_loss: 0.3316 - val_acc: 0.8958\n",
            "Epoch 2/10\n",
            "61224/61224 [==============================] - 98s 2ms/step - loss: 0.3271 - acc: 0.9005 - val_loss: 0.3176 - val_acc: 0.8976\n",
            "Epoch 3/10\n",
            "61224/61224 [==============================] - 97s 2ms/step - loss: 0.3193 - acc: 0.9016 - val_loss: 0.3184 - val_acc: 0.8958\n",
            "Epoch 4/10\n",
            "61224/61224 [==============================] - 99s 2ms/step - loss: 0.3115 - acc: 0.9025 - val_loss: 0.3293 - val_acc: 0.8976\n",
            "Epoch 5/10\n",
            "61224/61224 [==============================] - 98s 2ms/step - loss: 0.3071 - acc: 0.9031 - val_loss: 0.3142 - val_acc: 0.8973\n",
            "Epoch 6/10\n",
            "61224/61224 [==============================] - 98s 2ms/step - loss: 0.3034 - acc: 0.9035 - val_loss: 0.3094 - val_acc: 0.8995\n",
            "Epoch 7/10\n",
            "61224/61224 [==============================] - 98s 2ms/step - loss: 0.3001 - acc: 0.9052 - val_loss: 0.3119 - val_acc: 0.9002\n",
            "Epoch 8/10\n",
            "61224/61224 [==============================] - 98s 2ms/step - loss: 0.2947 - acc: 0.9070 - val_loss: 0.3026 - val_acc: 0.9010\n",
            "Epoch 9/10\n",
            "61224/61224 [==============================] - 98s 2ms/step - loss: 0.2900 - acc: 0.9072 - val_loss: 0.3041 - val_acc: 0.9005\n",
            "Epoch 10/10\n",
            "61224/61224 [==============================] - 98s 2ms/step - loss: 0.2859 - acc: 0.9075 - val_loss: 0.3087 - val_acc: 0.9010\n",
            "--- 1000.8613851070404 seconds ---\n",
            "15304/15304 [==============================] - 9s 608us/step\n",
            "accuracy  0.9010062728698379\n",
            "Matriz de confusión  [[13595   114]\n",
            " [ 1401   194]]\n",
            "Recall  0.12163009404388715\n",
            "Precision  0.6298701298701299\n",
            "F1-score  0.20388859695218078\n"
          ],
          "name": "stdout"
        },
        {
          "output_type": "display_data",
          "data": {
            "image/png": "[encoded data removed]",
            "text/plain": [
              "<Figure size 576x432 with 1 Axes>"
            ]
          },
          "metadata": {
            "tags": []
          }
        }
      ]
    },
    {
      "cell_type": "markdown",
      "metadata": {
        "id": "UiNW3VRGayCa",
        "colab_type": "text"
      },
      "source": [
        "El desempeño de la RNN mejorá considerablemente con respecto a la MLP, sin embargo aun le falta mucho para alcanzar un desempeño aceptable, se puede ver un f-score de 0.16 y un precision de 0.61 lo cual indica que el modelo, toma más veces la decisión de no decir que es negativa la muestra y se 'arriesga' a decir que la muestra es positiva, por otro lado el recall es de apenas 0.09 lo cual indica que el modelo cuando se arriesga suele fallar el 90.1% de las veces."
      ]
    },
    {
      "cell_type": "markdown",
      "metadata": {
        "id": "q8icVm3cbYvC",
        "colab_type": "text"
      },
      "source": [
        "# LSTM &GRU\n",
        "Las redes LSTM y GRU fueron ideadas por ..\n",
        "Con el fin de obtener ...\n",
        "Su arquitectura es la siguiente ...\n",
        "(NOTA) Realizar una investigación y referencia de estos tre puntos\n",
        "\n",
        "La generación de código en keras que genera un modelo LSTM es el siguiente"
      ]
    },
    {
      "cell_type": "code",
      "metadata": {
        "id": "c8dhe34X05-H",
        "colab_type": "code",
        "colab": {}
      },
      "source": [
        "from tensorflow.python.keras.layers import LSTM\n",
        "def make_modelLSTM(max_features,batch_size=None):\n",
        "  tf.keras.backend.clear_session()\n",
        "  source = Input(shape=(maxlen,), batch_size=batch_size, dtype=tf.int32, name='Input')\n",
        "  embedding = Embedding(input_dim=max_features, output_dim=128, name='Embedding')(source)\n",
        "  lstm = LSTM(200, name = 'LSTM')(embedding)\n",
        "  dropout=Dropout(0.5,name=\"Dropout\")(lstm)\n",
        "  predicted_var = Dense(1, activation='sigmoid', name='Output')(dropout)\n",
        "  model = tf.keras.Model(inputs=[source], outputs=[predicted_var])\n",
        "  model.compile(\n",
        "          optimizer= tf.train.RMSPropOptimizer(learning_rate=0.001),\n",
        "          loss='binary_crossentropy',\n",
        "          metrics=['acc'])\n",
        "  model_json = model.to_json()\n",
        "  with open(base+\"/Modelo.json\",\"w\") as json_file:\n",
        "    json_file.write(model_json)\n",
        "  return model"
      ],
      "execution_count": 0,
      "outputs": []
    },
    {
      "cell_type": "code",
      "metadata": {
        "id": "_plrWM8Z1F7T",
        "colab_type": "code",
        "outputId": "c15e0b78-ed62-4da6-e09a-8e4f800eeaed",
        "colab": {
          "base_uri": "https://localhost:8080/",
          "height": 1000
        }
      },
      "source": [
        "weights=base+\"pesosModeloLSTM.hd5\"\n",
        "model=make_modelLSTM(max_features)\n",
        "tpu_model=trainModel(model,x_train,y_train,x_test,y_test,weights,7,32)\n",
        "fpr,tpr=evaluate(x_test,y_test,model)"
      ],
      "execution_count": 0,
      "outputs": [
        {
          "output_type": "stream",
          "text": [
            "_________________________________________________________________\n",
            "Layer (type)                 Output Shape              Param #   \n",
            "=================================================================\n",
            "Input (InputLayer)           (None, 200)               0         \n",
            "_________________________________________________________________\n",
            "Embedding (Embedding)        (None, 200, 128)          25600000  \n",
            "_________________________________________________________________\n",
            "LSTM (LSTM)                  (None, 200)               263200    \n",
            "_________________________________________________________________\n",
            "Dropout (Dropout)            (None, 200)               0         \n",
            "_________________________________________________________________\n",
            "Output (Dense)               (None, 1)                 201       \n",
            "=================================================================\n",
            "Total params: 25,863,401\n",
            "Trainable params: 25,863,401\n",
            "Non-trainable params: 0\n",
            "_________________________________________________________________\n",
            "Train on 61224 samples, validate on 15304 samples\n",
            "Epoch 1/7\n",
            "61224/61224 [==============================] - 124s 2ms/step - loss: 0.4307 - acc: 0.8934 - val_loss: 0.3211 - val_acc: 0.8958\n",
            "Epoch 2/7\n",
            "61224/61224 [==============================] - 103s 2ms/step - loss: 0.3085 - acc: 0.9015 - val_loss: 0.3113 - val_acc: 0.8969\n",
            "Epoch 3/7\n",
            "61224/61224 [==============================] - 104s 2ms/step - loss: 0.2967 - acc: 0.9026 - val_loss: 0.2943 - val_acc: 0.8967\n",
            "Epoch 4/7\n",
            "61224/61224 [==============================] - 102s 2ms/step - loss: 0.2844 - acc: 0.9057 - val_loss: 0.2936 - val_acc: 0.8987\n",
            "Epoch 5/7\n",
            "61224/61224 [==============================] - 102s 2ms/step - loss: 0.2662 - acc: 0.9046 - val_loss: 0.2274 - val_acc: 0.9105\n",
            "Epoch 6/7\n",
            "61224/61224 [==============================] - 102s 2ms/step - loss: 0.1901 - acc: 0.9303 - val_loss: 0.1667 - val_acc: 0.9522\n",
            "Epoch 7/7\n",
            "61224/61224 [==============================] - 102s 2ms/step - loss: 0.1514 - acc: 0.9479 - val_loss: 0.1246 - val_acc: 0.9623\n",
            "--- 744.331610918045 seconds ---\n",
            "15304/15304 [==============================] - 28s 2ms/step\n",
            "accuracy  0.9622320961840042\n",
            "Matriz de confusión  [[13541   168]\n",
            " [  410  1185]]\n",
            "Recall  0.7429467084639498\n",
            "Precision  0.8758314855875832\n",
            "F1-score  0.8039348710990503\n"
          ],
          "name": "stdout"
        },
        {
          "output_type": "display_data",
          "data": {
            "image/png": "[encoded data removed]",
            "text/plain": [
              "<Figure size 576x432 with 1 Axes>"
            ]
          },
          "metadata": {
            "tags": []
          }
        }
      ]
    },
    {
      "cell_type": "code",
      "metadata": {
        "id": "DChwNB3Z1Igp",
        "colab_type": "code",
        "colab": {}
      },
      "source": [
        "from tensorflow.python.keras.layers import GRU, Bidirectional\n",
        "def make_modelGRU(max_features,batch_size=None):\n",
        "  tf.keras.backend.clear_session()\n",
        "  source = Input(shape=(maxlen,), batch_size=batch_size, dtype=tf.int32, name='Input')\n",
        "  embedding = Embedding(input_dim=max_features, output_dim=128, name='Embedding')(source)\n",
        "  gru = GRU(200, name = 'LSTM')(embedding)\n",
        "  dropout=Dropout(0.5,name=\"Dropout\")(lstm)\n",
        "  predicted_var = Dense(1, activation='sigmoid', name='Output')(gru)\n",
        "  model = tf.keras.Model(inputs=[source], outputs=[predicted_var])\n",
        "  model.compile(\n",
        "          optimizer= tf.train.RMSPropOptimizer(learning_rate=0.001),\n",
        "          loss='binary_crossentropy',\n",
        "          metrics=['acc'])\n",
        "  model_json = model.to_json()\n",
        "  with open(base+\"/Modelo.json\",\"w\") as json_file:\n",
        "    json_file.write(model_json)\n",
        "  return model"
      ],
      "execution_count": 0,
      "outputs": []
    },
    {
      "cell_type": "code",
      "metadata": {
        "id": "CRZgUGUc1dfF",
        "colab_type": "code",
        "outputId": "b4d64449-27c2-4b3b-e874-3d5efe58fe81",
        "colab": {
          "base_uri": "https://localhost:8080/"
        }
      },
      "source": [
        "weights=base+\"pesosModeloGRU.hd5\"\n",
        "model=make_modelGRU(max_features)\n",
        "tpu_model=trainModel(model,x_train,y_train,x_test,y_test,weights,7,32)\n",
        "fpr,tpr=evaluate(x_test,y_test,model)"
      ],
      "execution_count": 0,
      "outputs": [
        {
          "output_type": "error",
          "ename": "NameError",
          "evalue": "ignored",
          "traceback": [
            "\u001b[0;31m---------------------------------------------------------------------------\u001b[0m",
            "\u001b[0;31mNameError\u001b[0m                                 Traceback (most recent call last)",
            "\u001b[0;32m<ipython-input-13-a4a35b22b538>\u001b[0m in \u001b[0;36m<module>\u001b[0;34m()\u001b[0m\n\u001b[1;32m      1\u001b[0m \u001b[0mweights\u001b[0m\u001b[0;34m=\u001b[0m\u001b[0mbase\u001b[0m\u001b[0;34m+\u001b[0m\u001b[0;34m\"pesosModeloGRU.hd5\"\u001b[0m\u001b[0;34m\u001b[0m\u001b[0;34m\u001b[0m\u001b[0m\n\u001b[0;32m----> 2\u001b[0;31m \u001b[0mmodel\u001b[0m\u001b[0;34m=\u001b[0m\u001b[0mmake_modelLSTM\u001b[0m\u001b[0;34m(\u001b[0m\u001b[0mmax_features\u001b[0m\u001b[0;34m)\u001b[0m\u001b[0;34m\u001b[0m\u001b[0;34m\u001b[0m\u001b[0m\n\u001b[0m\u001b[1;32m      3\u001b[0m \u001b[0mtpu_model\u001b[0m\u001b[0;34m=\u001b[0m\u001b[0mtrainModel\u001b[0m\u001b[0;34m(\u001b[0m\u001b[0mmodel\u001b[0m\u001b[0;34m,\u001b[0m\u001b[0mx_train\u001b[0m\u001b[0;34m,\u001b[0m\u001b[0my_train\u001b[0m\u001b[0;34m,\u001b[0m\u001b[0mx_test\u001b[0m\u001b[0;34m,\u001b[0m\u001b[0my_test\u001b[0m\u001b[0;34m,\u001b[0m\u001b[0mweights\u001b[0m\u001b[0;34m,\u001b[0m\u001b[0;36m7\u001b[0m\u001b[0;34m)\u001b[0m\u001b[0;34m\u001b[0m\u001b[0;34m\u001b[0m\u001b[0m\n\u001b[1;32m      4\u001b[0m \u001b[0mfpr\u001b[0m\u001b[0;34m,\u001b[0m\u001b[0mtpr\u001b[0m\u001b[0;34m=\u001b[0m\u001b[0mevaluate\u001b[0m\u001b[0;34m(\u001b[0m\u001b[0mx_test\u001b[0m\u001b[0;34m,\u001b[0m\u001b[0my_test\u001b[0m\u001b[0;34m,\u001b[0m\u001b[0mmodel\u001b[0m\u001b[0;34m)\u001b[0m\u001b[0;34m\u001b[0m\u001b[0;34m\u001b[0m\u001b[0m\n",
            "\u001b[0;32m<ipython-input-12-4504ac78f8e0>\u001b[0m in \u001b[0;36mmake_modelLSTM\u001b[0;34m(max_features, batch_size)\u001b[0m\n\u001b[1;32m      4\u001b[0m   \u001b[0msource\u001b[0m \u001b[0;34m=\u001b[0m \u001b[0mInput\u001b[0m\u001b[0;34m(\u001b[0m\u001b[0mshape\u001b[0m\u001b[0;34m=\u001b[0m\u001b[0;34m(\u001b[0m\u001b[0mmaxlen\u001b[0m\u001b[0;34m,\u001b[0m\u001b[0;34m)\u001b[0m\u001b[0;34m,\u001b[0m \u001b[0mbatch_size\u001b[0m\u001b[0;34m=\u001b[0m\u001b[0mbatch_size\u001b[0m\u001b[0;34m,\u001b[0m \u001b[0mdtype\u001b[0m\u001b[0;34m=\u001b[0m\u001b[0mtf\u001b[0m\u001b[0;34m.\u001b[0m\u001b[0mint32\u001b[0m\u001b[0;34m,\u001b[0m \u001b[0mname\u001b[0m\u001b[0;34m=\u001b[0m\u001b[0;34m'Input'\u001b[0m\u001b[0;34m)\u001b[0m\u001b[0;34m\u001b[0m\u001b[0;34m\u001b[0m\u001b[0m\n\u001b[1;32m      5\u001b[0m   \u001b[0membedding\u001b[0m \u001b[0;34m=\u001b[0m \u001b[0mEmbedding\u001b[0m\u001b[0;34m(\u001b[0m\u001b[0minput_dim\u001b[0m\u001b[0;34m=\u001b[0m\u001b[0mmax_features\u001b[0m\u001b[0;34m,\u001b[0m \u001b[0moutput_dim\u001b[0m\u001b[0;34m=\u001b[0m\u001b[0;36m128\u001b[0m\u001b[0;34m,\u001b[0m \u001b[0mname\u001b[0m\u001b[0;34m=\u001b[0m\u001b[0;34m'Embedding'\u001b[0m\u001b[0;34m)\u001b[0m\u001b[0;34m(\u001b[0m\u001b[0msource\u001b[0m\u001b[0;34m)\u001b[0m\u001b[0;34m\u001b[0m\u001b[0;34m\u001b[0m\u001b[0m\n\u001b[0;32m----> 6\u001b[0;31m   \u001b[0mgru\u001b[0m \u001b[0;34m=\u001b[0m \u001b[0mGRU\u001b[0m\u001b[0;34m(\u001b[0m\u001b[0;36m200\u001b[0m\u001b[0;34m,\u001b[0m \u001b[0mname\u001b[0m \u001b[0;34m=\u001b[0m \u001b[0;34m'LSTM'\u001b[0m\u001b[0;34m)\u001b[0m\u001b[0;34m(\u001b[0m\u001b[0membedding\u001b[0m\u001b[0;34m)\u001b[0m\u001b[0;34m\u001b[0m\u001b[0;34m\u001b[0m\u001b[0m\n\u001b[0m\u001b[1;32m      7\u001b[0m   \u001b[0mdropout\u001b[0m\u001b[0;34m=\u001b[0m\u001b[0mDropout\u001b[0m\u001b[0;34m(\u001b[0m\u001b[0;36m0.5\u001b[0m\u001b[0;34m,\u001b[0m\u001b[0mname\u001b[0m\u001b[0;34m=\u001b[0m\u001b[0;34m\"Dropout\"\u001b[0m\u001b[0;34m)\u001b[0m\u001b[0;34m(\u001b[0m\u001b[0mlstm\u001b[0m\u001b[0;34m)\u001b[0m\u001b[0;34m\u001b[0m\u001b[0;34m\u001b[0m\u001b[0m\n\u001b[1;32m      8\u001b[0m   \u001b[0mpredicted_var\u001b[0m \u001b[0;34m=\u001b[0m \u001b[0mDense\u001b[0m\u001b[0;34m(\u001b[0m\u001b[0;36m1\u001b[0m\u001b[0;34m,\u001b[0m \u001b[0mactivation\u001b[0m\u001b[0;34m=\u001b[0m\u001b[0;34m'sigmoid'\u001b[0m\u001b[0;34m,\u001b[0m \u001b[0mname\u001b[0m\u001b[0;34m=\u001b[0m\u001b[0;34m'Output'\u001b[0m\u001b[0;34m)\u001b[0m\u001b[0;34m(\u001b[0m\u001b[0mgru\u001b[0m\u001b[0;34m)\u001b[0m\u001b[0;34m\u001b[0m\u001b[0;34m\u001b[0m\u001b[0m\n",
            "\u001b[0;31mNameError\u001b[0m: name 'GRU' is not defined"
          ]
        }
      ]
    },
    {
      "cell_type": "markdown",
      "metadata": {
        "id": "unht8nl3qvJF",
        "colab_type": "text"
      },
      "source": [
        "#BRNN\n"
      ]
    },
    {
      "cell_type": "code",
      "metadata": {
        "id": "bLxVPe-Lq2KW",
        "colab_type": "code",
        "colab": {}
      },
      "source": [
        "from tensorflow.python.keras.layers import  Bidirectional\n",
        "def make_modelBiRNN(max_features,batch_size=None):\n",
        "  tf.keras.backend.clear_session()\n",
        "  source = Input(shape=(maxlen,), batch_size=batch_size, dtype=tf.int32, name='Input')\n",
        "  embedding = Embedding(input_dim=max_features, output_dim=128, name='Embedding')(source)\n",
        "  birnn = Bidirectional(RNN(200, name = 'RNN'), name='Bidirectional')(embedding)\n",
        "  dropout=Dropout(0.5,name=\"Dropout\")(birnn)\n",
        "  predicted_var = Dense(1, activation='sigmoid', name='Output')(dropout)\n",
        "  model = tf.keras.Model(inputs=[source], outputs=[predicted_var])\n",
        "  model.compile(\n",
        "          optimizer= tf.train.RMSPropOptimizer(learning_rate=0.001),\n",
        "          loss='binary_crossentropy',\n",
        "          metrics=['acc'])\n",
        "  model_json = model.to_json()\n",
        "  with open(base+\"/Modelo.json\",\"w\") as json_file:\n",
        "    json_file.write(model_json)\n",
        "  return model"
      ],
      "execution_count": 0,
      "outputs": []
    },
    {
      "cell_type": "code",
      "metadata": {
        "id": "_9QiUNu0rDFa",
        "colab_type": "code",
        "colab": {}
      },
      "source": [
        "weights=base+\"pesosModeloBiRNN.hd5\"\n",
        "model=make_modelBiRNN(max_features)\n",
        "tpu_model=trainModel(model,x_train,y_train,x_test,y_test,weights,7,32)\n",
        "fpr,tpr=evaluate(x_test,y_test,model)"
      ],
      "execution_count": 0,
      "outputs": []
    },
    {
      "cell_type": "markdown",
      "metadata": {
        "id": "EGX1e6ZcbyfY",
        "colab_type": "text"
      },
      "source": [
        "# Bi LSTM\n",
        "Las redes LSTM y GRU fueron ideadas por .. Con el fin de obtener ... Su arquitectura es la siguiente ... (NOTA) Realizar una investigación y referencia de estos tre puntos\n",
        "\n",
        "La generación de código en keras que genera un modelo Bi-LSTM es el siguiente"
      ]
    },
    {
      "cell_type": "code",
      "metadata": {
        "id": "WFvnRzFXNCHZ",
        "colab_type": "code",
        "colab": {}
      },
      "source": [
        "\n",
        "def make_modelBiLSTM(max_features,batch_size=None):\n",
        "  tf.keras.backend.clear_session()\n",
        "  source = Input(shape=(maxlen,), batch_size=batch_size, dtype=tf.int32, name='Input')\n",
        "  embedding = Embedding(input_dim=max_features, output_dim=128, name='Embedding')(source)\n",
        "  lstm = Bidirectional(LSTM(200, name = 'LSTM'), name='Bidirectional')(embedding)\n",
        "  dropout=Dropout(0.5,name=\"Dropout\")(lstm)\n",
        "  predicted_var = Dense(1, activation='sigmoid', name='Output')(dropout)\n",
        "  model = tf.keras.Model(inputs=[source], outputs=[predicted_var])\n",
        "  model.compile(\n",
        "          optimizer= tf.train.RMSPropOptimizer(learning_rate=0.001),\n",
        "          loss='binary_crossentropy',\n",
        "          metrics=['acc'])\n",
        "  model_json = model.to_json()\n",
        "  with open(base+\"/Modelo.json\",\"w\") as json_file:\n",
        "    json_file.write(model_json)\n",
        "  return model"
      ],
      "execution_count": 0,
      "outputs": []
    },
    {
      "cell_type": "code",
      "metadata": {
        "id": "Yc2m445HNIBv",
        "colab_type": "code",
        "colab": {}
      },
      "source": [
        "weights=base+\"pesosModeloBiLSTM.hd5\"\n",
        "model=make_modelBiLSTM(max_features)\n",
        "tpu_model=trainModel(model,x_train,y_train,x_test,y_test,weights,7,32)\n",
        "fpr,tpr=evaluate(x_test,y_test,model)"
      ],
      "execution_count": 0,
      "outputs": []
    },
    {
      "cell_type": "markdown",
      "metadata": {
        "id": "WeuBmCKLb7Vn",
        "colab_type": "text"
      },
      "source": [
        "Su desempeño es muy superior al que se tiene previamente en los otros experimentos, se puede ver una mejora significativa en f-score y recall que denotan que el modelo está entendiendo realmente el problema y no simplemente esta diciendo que todas las muestras son negativas"
      ]
    }
  ]
}